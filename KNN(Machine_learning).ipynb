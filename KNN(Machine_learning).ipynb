{
  "nbformat": 4,
  "nbformat_minor": 0,
  "metadata": {
    "colab": {
      "provenance": [],
      "authorship_tag": "ABX9TyPK5IEPycqRTM5N2Zt7oZDh",
      "include_colab_link": true
    },
    "kernelspec": {
      "name": "python3",
      "display_name": "Python 3"
    },
    "language_info": {
      "name": "python"
    }
  },
  "cells": [
    {
      "cell_type": "markdown",
      "metadata": {
        "id": "view-in-github",
        "colab_type": "text"
      },
      "source": [
        "<a href=\"https://colab.research.google.com/github/Priyesh29sri/Machine-Learning-/blob/main/KNN(Machine_learning).ipynb\" target=\"_parent\"><img src=\"https://colab.research.google.com/assets/colab-badge.svg\" alt=\"Open In Colab\"/></a>"
      ]
    },
    {
      "cell_type": "code",
      "execution_count": 39,
      "metadata": {
        "collapsed": true,
        "id": "xJ1018HNPuEa"
      },
      "outputs": [],
      "source": [
        "import numpy as np\n",
        "import matplotlib.pyplot as plt\n",
        "from sklearn.datasets import load_digits"
      ]
    },
    {
      "cell_type": "code",
      "source": [
        "digits = load_digits()"
      ],
      "metadata": {
        "id": "E7zFHmkJicbV"
      },
      "execution_count": 40,
      "outputs": []
    },
    {
      "cell_type": "code",
      "source": [
        "print(\"Images Shape\", digits.images.shape)\n",
        "print(\"Labels Shape\", digits.target.shape)"
      ],
      "metadata": {
        "colab": {
          "base_uri": "https://localhost:8080/"
        },
        "id": "XP6HBSDFqB-T",
        "outputId": "9f18d05a-0ce9-46b4-bb31-6a45aa4b41b0"
      },
      "execution_count": 41,
      "outputs": [
        {
          "output_type": "stream",
          "name": "stdout",
          "text": [
            "Images Shape (1797, 8, 8)\n",
            "Labels Shape (1797,)\n"
          ]
        }
      ]
    },
    {
      "cell_type": "code",
      "source": [
        "plt.imshow(digits.images[5], cmap=\"gray\")\n",
        "plt.title(f\"Label: {digits.target[5]}\")\n",
        "plt.show()"
      ],
      "metadata": {
        "id": "s64RD5QhqrSv",
        "outputId": "1be883a9-ca04-4f2f-a497-ac77a0b88911",
        "colab": {
          "base_uri": "https://localhost:8080/",
          "height": 452
        }
      },
      "execution_count": 42,
      "outputs": [
        {
          "output_type": "display_data",
          "data": {
            "text/plain": [
              "<Figure size 640x480 with 1 Axes>"
            ],
            "image/png": "[encoded data removed]"
          },
          "metadata": {}
        }
      ]
    },
    {
      "cell_type": "code",
      "source": [
        "from sklearn.model_selection import train_test_split\n",
        "\n",
        "x = digits.images.reshape(len(digits.images),-1)\n",
        "y = digits.target\n",
        "\n",
        "x_train,x_test,y_train,y_test = train_test_split(x,y,test_size=0.2, random_state=42)\n",
        "\n",
        "print(\"Training set Shape: \", x_train.shape)\n",
        "print(\"Testing set shape\", x_test.shape)\n"
      ],
      "metadata": {
        "id": "C9ZANUiGrMRJ",
        "outputId": "d8533686-dc5b-4580-ef1b-9b65678d4085",
        "colab": {
          "base_uri": "https://localhost:8080/"
        }
      },
      "execution_count": 43,
      "outputs": [
        {
          "output_type": "stream",
          "name": "stdout",
          "text": [
            "Training set Shape:  (1437, 64)\n",
            "Testing set shape (360, 64)\n"
          ]
        }
      ]
    },
    {
      "cell_type": "markdown",
      "source": [
        "Train the KNN model"
      ],
      "metadata": {
        "id": "AAOp8bCq2sPq"
      }
    },
    {
      "cell_type": "code",
      "source": [
        "from sklearn.neighbors import KNeighborsClassifier\n",
        "\n",
        "knn = KNeighborsClassifier(n_neighbors=3)\n",
        "knn.fit(x_train,y_train)\n",
        "\n",
        "print(\"Model trained successfully!\")"
      ],
      "metadata": {
        "id": "DxIjGMYTsc9M",
        "outputId": "cfe731db-121c-4bf1-e5a4-5e0acf11dc6b",
        "colab": {
          "base_uri": "https://localhost:8080/"
        }
      },
      "execution_count": 44,
      "outputs": [
        {
          "output_type": "stream",
          "name": "stdout",
          "text": [
            "Model trained successfully!\n"
          ]
        }
      ]
    },
    {
      "cell_type": "markdown",
      "source": [
        "Test the model"
      ],
      "metadata": {
        "id": "yFU04dxc25l-"
      }
    },
    {
      "cell_type": "code",
      "source": [
        "from sklearn.metrics import accuracy_score\n",
        "\n",
        "y_pred = knn.predict(x_test)\n",
        "accuracy = accuracy_score(y_test,y_pred)\n",
        "print(f\"Accuracy: {accuracy * 100:.2f}% \")"
      ],
      "metadata": {
        "id": "yaHlDrUoyZZT",
        "outputId": "63f3b219-81e7-41cc-a843-eb864c2b72bb",
        "colab": {
          "base_uri": "https://localhost:8080/"
        }
      },
      "execution_count": 45,
      "outputs": [
        {
          "output_type": "stream",
          "name": "stdout",
          "text": [
            "Accuracy: 98.33% \n"
          ]
        }
      ]
    },
    {
      "cell_type": "markdown",
      "source": [
        "Visualize Predictions"
      ],
      "metadata": {
        "id": "dG0RB3Ag3BZA"
      }
    },
    {
      "cell_type": "code",
      "source": [
        "plt.figure(figsize=(10,5))\n",
        "for i in range(5):\n",
        "  plt.subplot(1,5,i + 1)\n",
        "  plt.imshow(x_test[i].reshape(8,8), cmap='gray')\n",
        "  plt.title(f\"Pred: {y_pred[i]}\\nTrue:{y_test[i]}\")\n",
        "  plt.axis('off')\n",
        "\n",
        "plt.show()"
      ],
      "metadata": {
        "id": "WzGIZYRn0BDJ",
        "outputId": "fb89869b-bb9c-481a-c95c-9432cc3a8726",
        "colab": {
          "base_uri": "https://localhost:8080/",
          "height": 172
        }
      },
      "execution_count": 46,
      "outputs": [
        {
          "output_type": "display_data",
          "data": {
            "text/plain": [
              "<Figure size 1000x500 with 5 Axes>"
            ],
            "image/png": "[encoded data removed]"
          },
          "metadata": {}
        }
      ]
    },
    {
      "cell_type": "code",
      "source": [
        "import pandas as pd\n",
        "\n",
        "results = pd.DataFrame({\"True Label\": y_test, \"Predicted Label\": y_pred})\n",
        "results.to_csv(\"result.csv\", index=False)\n",
        "\n",
        "print(\"Predictions saved as predictions.csv!\")"
      ],
      "metadata": {
        "id": "Pfm9DZ-61ebJ",
        "outputId": "12eb0f24-7229-48b1-8f14-a209e023b0b7",
        "colab": {
          "base_uri": "https://localhost:8080/"
        }
      },
      "execution_count": 47,
      "outputs": [
        {
          "output_type": "stream",
          "name": "stdout",
          "text": [
            "Predictions saved as predictions.csv!\n"
          ]
        }
      ]
    },
    {
      "cell_type": "markdown",
      "source": [
        "This will save all the results in predictions.csv for future use."
      ],
      "metadata": {
        "id": "hbF5dyRp2UJl"
      }
    },
    {
      "cell_type": "markdown",
      "source": [],
      "metadata": {
        "id": "pM2dRf3N2q7Z"
      }
    }
  ]
}