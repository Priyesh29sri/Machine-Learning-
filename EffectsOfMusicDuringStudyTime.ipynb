{
  "nbformat": 4,
  "nbformat_minor": 0,
  "metadata": {
    "colab": {
      "provenance": [],
      "authorship_tag": "ABX9TyNFiVqpowoVbQCZQbs9XT9r",
      "include_colab_link": true
    },
    "kernelspec": {
      "name": "python3",
      "display_name": "Python 3"
    },
    "language_info": {
      "name": "python"
    }
  },
  "cells": [
    {
      "cell_type": "markdown",
      "metadata": {
        "id": "view-in-github",
        "colab_type": "text"
      },
      "source": [
        "<a href=\"https://colab.research.google.com/github/Priyesh29sri/Machine-Learning-/blob/main/EffectsOfMusicDuringStudyTime.ipynb\" target=\"_parent\"><img src=\"https://colab.research.google.com/assets/colab-badge.svg\" alt=\"Open In Colab\"/></a>"
      ]
    },
    {
      "cell_type": "code",
      "execution_count": 1,
      "metadata": {
        "id": "HSK0O76Jpnkt"
      },
      "outputs": [],
      "source": [
        "import numpy as np\n",
        "from scipy.stats import ttest_rel"
      ]
    },
    {
      "cell_type": "code",
      "source": [
        "before = np.array([50,55,48,60,53,59,61,50,56,54])\n",
        "after = np.array([60,65,58,68,64,69,70,62,63,66])"
      ],
      "metadata": {
        "id": "BkFp2Nikp5dC"
      },
      "execution_count": 3,
      "outputs": []
    },
    {
      "cell_type": "code",
      "source": [
        "stat, p_value = ttest_rel(before, after)"
      ],
      "metadata": {
        "id": "sAdYINvbqEWT"
      },
      "execution_count": 5,
      "outputs": []
    },
    {
      "cell_type": "code",
      "source": [
        "alpha = 0.05"
      ],
      "metadata": {
        "id": "5uW6GqowqW-4"
      },
      "execution_count": 6,
      "outputs": []
    },
    {
      "cell_type": "code",
      "source": [
        "print(f\"Test Statistics: {stat}\")\n",
        "print(f\"P-Value: {p_value}\")"
      ],
      "metadata": {
        "colab": {
          "base_uri": "https://localhost:8080/"
        },
        "id": "8nDnKTUSqeQC",
        "outputId": "ddeed1ee-afbe-4ad5-8279-0dabcf586bb5"
      },
      "execution_count": 7,
      "outputs": [
        {
          "output_type": "stream",
          "name": "stdout",
          "text": [
            "Test Statistics: -19.626312433516166\n",
            "P-Value: 1.0722147272594473e-08\n"
          ]
        }
      ]
    },
    {
      "cell_type": "code",
      "source": [
        "if p_value < alpha:\n",
        "    print(\"Reject the null hypothesis (h0): chocolate improves energy! \")\n",
        "else:\n",
        "    print(\"Fail to reject the null hypothesis\")"
      ],
      "metadata": {
        "colab": {
          "base_uri": "https://localhost:8080/"
        },
        "id": "0TyWDNqbqk52",
        "outputId": "b7da2837-129b-41e3-9712-f6fa56721978"
      },
      "execution_count": 9,
      "outputs": [
        {
          "output_type": "stream",
          "name": "stdout",
          "text": [
            "Reject the null hypothesis (h0): chocolate improves energy! \n"
          ]
        }
      ]
    },
    {
      "cell_type": "code",
      "source": [
        "no_music = np.array([3,2.5,2,3,3.5,3,2.8,2.5,3,3.2])\n",
        "music = np.array([4,3.5,3,4,4.5,3.8,4.2,3.6,4,4.1])"
      ],
      "metadata": {
        "id": "OuTK5xKorEQe"
      },
      "execution_count": 13,
      "outputs": []
    },
    {
      "cell_type": "code",
      "source": [
        "stat, p_value = ttest_rel(no_music, music)\n",
        "alpha = 0.05"
      ],
      "metadata": {
        "id": "puqq7dL3rup0"
      },
      "execution_count": 14,
      "outputs": []
    },
    {
      "cell_type": "code",
      "source": [
        "print(f\"Test Statics: {stat}\")\n",
        "print(f\"P-Value: {p_value}\")\n",
        "\n",
        "if p_value < alpha:\n",
        "    print(\"Reject the null hypothesis (h0): music improves mood! \")\n",
        "else:\n",
        "    print(\"Fail to reject the null hypothesis\")"
      ],
      "metadata": {
        "colab": {
          "base_uri": "https://localhost:8080/"
        },
        "id": "2AWDHqcbr372",
        "outputId": "039574ed-94f4-4090-9ea2-03bd1d801247"
      },
      "execution_count": 15,
      "outputs": [
        {
          "output_type": "stream",
          "name": "stdout",
          "text": [
            "Test Statics: -20.82066281365699\n",
            "P-Value: 6.366586323758958e-09\n",
            "Reject the null hypothesis (h0): music improves mood! \n"
          ]
        }
      ]
    },
    {
      "cell_type": "code",
      "source": [],
      "metadata": {
        "id": "BKIEL1mssRrq"
      },
      "execution_count": null,
      "outputs": []
    }
  ]
}